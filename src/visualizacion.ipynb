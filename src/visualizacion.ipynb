{
 "cells": [
  {
   "cell_type": "code",
   "execution_count": 1,
   "metadata": {},
   "outputs": [],
   "source": [
    "import pandas as pd\n",
    "import numpy as np\n",
    "import matplotlib.pyplot as plt\n",
    "import plotly.graph_objs as go\n",
    "from upsetplot import UpSet\n",
    "import seaborn as sns"
   ]
  },
  {
   "cell_type": "code",
   "execution_count": 2,
   "metadata": {},
   "outputs": [],
   "source": [
    "# Cargar datos de archivo CSV\n",
    "data = pd.read_csv('../data/glaucoma_dataset.csv')"
   ]
  },
  {
   "cell_type": "code",
   "execution_count": 3,
   "metadata": {},
   "outputs": [
    {
     "data": {
      "text/html": [
       "<div>\n",
       "<style scoped>\n",
       "    .dataframe tbody tr th:only-of-type {\n",
       "        vertical-align: middle;\n",
       "    }\n",
       "\n",
       "    .dataframe tbody tr th {\n",
       "        vertical-align: top;\n",
       "    }\n",
       "\n",
       "    .dataframe thead th {\n",
       "        text-align: right;\n",
       "    }\n",
       "</style>\n",
       "<table border=\"1\" class=\"dataframe\">\n",
       "  <thead>\n",
       "    <tr style=\"text-align: right;\">\n",
       "      <th></th>\n",
       "      <th>Patient ID</th>\n",
       "      <th>Age</th>\n",
       "      <th>Gender</th>\n",
       "      <th>Visual Acuity Measurements</th>\n",
       "      <th>Intraocular Pressure (IOP)</th>\n",
       "      <th>Cup-to-Disc Ratio (CDR)</th>\n",
       "      <th>Family History</th>\n",
       "      <th>Medical History</th>\n",
       "      <th>Medication Usage</th>\n",
       "      <th>Visual Field Test Results</th>\n",
       "      <th>Optical Coherence Tomography (OCT) Results</th>\n",
       "      <th>Pachymetry</th>\n",
       "      <th>Cataract Status</th>\n",
       "      <th>Angle Closure Status</th>\n",
       "      <th>Visual Symptoms</th>\n",
       "      <th>Diagnosis</th>\n",
       "      <th>Glaucoma Type</th>\n",
       "    </tr>\n",
       "  </thead>\n",
       "  <tbody>\n",
       "    <tr>\n",
       "      <th>0</th>\n",
       "      <td>62431</td>\n",
       "      <td>69</td>\n",
       "      <td>Male</td>\n",
       "      <td>LogMAR 0.1</td>\n",
       "      <td>19.46</td>\n",
       "      <td>0.42</td>\n",
       "      <td>No</td>\n",
       "      <td>Diabetes</td>\n",
       "      <td>Amoxicillin, Lisinopril, Omeprazole, Atorvasta...</td>\n",
       "      <td>Sensitivity: 0.54, Specificity: 0.75</td>\n",
       "      <td>RNFL Thickness: 86.48 µm, GCC Thickness: 64.14...</td>\n",
       "      <td>541.51</td>\n",
       "      <td>Present</td>\n",
       "      <td>Open</td>\n",
       "      <td>Tunnel vision, Eye pain, Nausea</td>\n",
       "      <td>No Glaucoma</td>\n",
       "      <td>Primary Open-Angle Glaucoma</td>\n",
       "    </tr>\n",
       "    <tr>\n",
       "      <th>1</th>\n",
       "      <td>68125</td>\n",
       "      <td>69</td>\n",
       "      <td>Female</td>\n",
       "      <td>LogMAR 0.1</td>\n",
       "      <td>18.39</td>\n",
       "      <td>0.72</td>\n",
       "      <td>No</td>\n",
       "      <td>Hypertension</td>\n",
       "      <td>Lisinopril, Amoxicillin, Atorvastatin, Ibuprof...</td>\n",
       "      <td>Sensitivity: 0.72, Specificity: 0.88</td>\n",
       "      <td>RNFL Thickness: 96.88 µm, GCC Thickness: 56.48...</td>\n",
       "      <td>552.77</td>\n",
       "      <td>Absent</td>\n",
       "      <td>Open</td>\n",
       "      <td>Redness in the eye, Vision loss, Tunnel vision</td>\n",
       "      <td>No Glaucoma</td>\n",
       "      <td>Juvenile Glaucoma</td>\n",
       "    </tr>\n",
       "    <tr>\n",
       "      <th>2</th>\n",
       "      <td>63329</td>\n",
       "      <td>67</td>\n",
       "      <td>Female</td>\n",
       "      <td>20/40</td>\n",
       "      <td>23.65</td>\n",
       "      <td>0.72</td>\n",
       "      <td>No</td>\n",
       "      <td>Hypertension</td>\n",
       "      <td>Amoxicillin, Ibuprofen, Metformin, Atorvastati...</td>\n",
       "      <td>Sensitivity: 0.56, Specificity: 0.8</td>\n",
       "      <td>RNFL Thickness: 89.81 µm, GCC Thickness: 59.05...</td>\n",
       "      <td>573.65</td>\n",
       "      <td>Absent</td>\n",
       "      <td>Closed</td>\n",
       "      <td>Halos around lights, Vision loss, Redness in t...</td>\n",
       "      <td>No Glaucoma</td>\n",
       "      <td>Juvenile Glaucoma</td>\n",
       "    </tr>\n",
       "    <tr>\n",
       "      <th>3</th>\n",
       "      <td>47174</td>\n",
       "      <td>23</td>\n",
       "      <td>Male</td>\n",
       "      <td>LogMAR 0.0</td>\n",
       "      <td>18.04</td>\n",
       "      <td>0.61</td>\n",
       "      <td>No</td>\n",
       "      <td>NaN</td>\n",
       "      <td>Ibuprofen, Aspirin</td>\n",
       "      <td>Sensitivity: 0.6, Specificity: 0.93</td>\n",
       "      <td>RNFL Thickness: 87.25 µm, GCC Thickness: 63.98...</td>\n",
       "      <td>590.67</td>\n",
       "      <td>Absent</td>\n",
       "      <td>Closed</td>\n",
       "      <td>Nausea, Nausea, Halos around lights</td>\n",
       "      <td>No Glaucoma</td>\n",
       "      <td>Congenital Glaucoma</td>\n",
       "    </tr>\n",
       "    <tr>\n",
       "      <th>4</th>\n",
       "      <td>67361</td>\n",
       "      <td>21</td>\n",
       "      <td>Male</td>\n",
       "      <td>LogMAR 0.1</td>\n",
       "      <td>15.87</td>\n",
       "      <td>0.30</td>\n",
       "      <td>No</td>\n",
       "      <td>Diabetes</td>\n",
       "      <td>Amoxicillin, Omeprazole, Aspirin, Ibuprofen, A...</td>\n",
       "      <td>Sensitivity: 0.82, Specificity: 0.9</td>\n",
       "      <td>RNFL Thickness: 82.61 µm, GCC Thickness: 66.01...</td>\n",
       "      <td>588.41</td>\n",
       "      <td>Absent</td>\n",
       "      <td>Closed</td>\n",
       "      <td>Eye pain, Eye pain, Tunnel vision</td>\n",
       "      <td>No Glaucoma</td>\n",
       "      <td>Primary Open-Angle Glaucoma</td>\n",
       "    </tr>\n",
       "  </tbody>\n",
       "</table>\n",
       "</div>"
      ],
      "text/plain": [
       "   Patient ID  Age  Gender Visual Acuity Measurements  \\\n",
       "0       62431   69    Male                 LogMAR 0.1   \n",
       "1       68125   69  Female                 LogMAR 0.1   \n",
       "2       63329   67  Female                      20/40   \n",
       "3       47174   23    Male                 LogMAR 0.0   \n",
       "4       67361   21    Male                 LogMAR 0.1   \n",
       "\n",
       "   Intraocular Pressure (IOP)  Cup-to-Disc Ratio (CDR) Family History  \\\n",
       "0                       19.46                     0.42             No   \n",
       "1                       18.39                     0.72             No   \n",
       "2                       23.65                     0.72             No   \n",
       "3                       18.04                     0.61             No   \n",
       "4                       15.87                     0.30             No   \n",
       "\n",
       "  Medical History                                   Medication Usage  \\\n",
       "0        Diabetes  Amoxicillin, Lisinopril, Omeprazole, Atorvasta...   \n",
       "1    Hypertension  Lisinopril, Amoxicillin, Atorvastatin, Ibuprof...   \n",
       "2    Hypertension  Amoxicillin, Ibuprofen, Metformin, Atorvastati...   \n",
       "3             NaN                                 Ibuprofen, Aspirin   \n",
       "4        Diabetes  Amoxicillin, Omeprazole, Aspirin, Ibuprofen, A...   \n",
       "\n",
       "              Visual Field Test Results  \\\n",
       "0  Sensitivity: 0.54, Specificity: 0.75   \n",
       "1  Sensitivity: 0.72, Specificity: 0.88   \n",
       "2   Sensitivity: 0.56, Specificity: 0.8   \n",
       "3   Sensitivity: 0.6, Specificity: 0.93   \n",
       "4   Sensitivity: 0.82, Specificity: 0.9   \n",
       "\n",
       "          Optical Coherence Tomography (OCT) Results  Pachymetry  \\\n",
       "0  RNFL Thickness: 86.48 µm, GCC Thickness: 64.14...      541.51   \n",
       "1  RNFL Thickness: 96.88 µm, GCC Thickness: 56.48...      552.77   \n",
       "2  RNFL Thickness: 89.81 µm, GCC Thickness: 59.05...      573.65   \n",
       "3  RNFL Thickness: 87.25 µm, GCC Thickness: 63.98...      590.67   \n",
       "4  RNFL Thickness: 82.61 µm, GCC Thickness: 66.01...      588.41   \n",
       "\n",
       "  Cataract Status Angle Closure Status  \\\n",
       "0         Present                 Open   \n",
       "1          Absent                 Open   \n",
       "2          Absent               Closed   \n",
       "3          Absent               Closed   \n",
       "4          Absent               Closed   \n",
       "\n",
       "                                     Visual Symptoms    Diagnosis  \\\n",
       "0                    Tunnel vision, Eye pain, Nausea  No Glaucoma   \n",
       "1     Redness in the eye, Vision loss, Tunnel vision  No Glaucoma   \n",
       "2  Halos around lights, Vision loss, Redness in t...  No Glaucoma   \n",
       "3                Nausea, Nausea, Halos around lights  No Glaucoma   \n",
       "4                  Eye pain, Eye pain, Tunnel vision  No Glaucoma   \n",
       "\n",
       "                 Glaucoma Type  \n",
       "0  Primary Open-Angle Glaucoma  \n",
       "1            Juvenile Glaucoma  \n",
       "2            Juvenile Glaucoma  \n",
       "3          Congenital Glaucoma  \n",
       "4  Primary Open-Angle Glaucoma  "
      ]
     },
     "execution_count": 3,
     "metadata": {},
     "output_type": "execute_result"
    }
   ],
   "source": [
    "data.head()"
   ]
  },
  {
   "cell_type": "code",
   "execution_count": 4,
   "metadata": {},
   "outputs": [
    {
     "data": {
      "text/plain": [
       "(10000, 17)"
      ]
     },
     "execution_count": 4,
     "metadata": {},
     "output_type": "execute_result"
    }
   ],
   "source": [
    "data.shape"
   ]
  },
  {
   "cell_type": "code",
   "execution_count": 5,
   "metadata": {},
   "outputs": [
    {
     "name": "stdout",
     "output_type": "stream",
     "text": [
      "<class 'pandas.core.frame.DataFrame'>\n",
      "RangeIndex: 10000 entries, 0 to 9999\n",
      "Data columns (total 17 columns):\n",
      " #   Column                                      Non-Null Count  Dtype  \n",
      "---  ------                                      --------------  -----  \n",
      " 0   Patient ID                                  10000 non-null  int64  \n",
      " 1   Age                                         10000 non-null  int64  \n",
      " 2   Gender                                      10000 non-null  object \n",
      " 3   Visual Acuity Measurements                  10000 non-null  object \n",
      " 4   Intraocular Pressure (IOP)                  10000 non-null  float64\n",
      " 5   Cup-to-Disc Ratio (CDR)                     10000 non-null  float64\n",
      " 6   Family History                              10000 non-null  object \n",
      " 7   Medical History                             7453 non-null   object \n",
      " 8   Medication Usage                            8769 non-null   object \n",
      " 9   Visual Field Test Results                   10000 non-null  object \n",
      " 10  Optical Coherence Tomography (OCT) Results  10000 non-null  object \n",
      " 11  Pachymetry                                  10000 non-null  float64\n",
      " 12  Cataract Status                             10000 non-null  object \n",
      " 13  Angle Closure Status                        10000 non-null  object \n",
      " 14  Visual Symptoms                             10000 non-null  object \n",
      " 15  Diagnosis                                   10000 non-null  object \n",
      " 16  Glaucoma Type                               10000 non-null  object \n",
      "dtypes: float64(3), int64(2), object(12)\n",
      "memory usage: 1.3+ MB\n"
     ]
    }
   ],
   "source": [
    "data.info() "
   ]
  },
  {
   "cell_type": "code",
   "execution_count": 6,
   "metadata": {},
   "outputs": [],
   "source": [
    "# Preparar los datos para el gráfico (Age vs Intraocular Pressure)\n",
    "line_data = data[['Age', 'Intraocular Pressure (IOP)']].dropna()"
   ]
  },
  {
   "cell_type": "code",
   "execution_count": 7,
   "metadata": {},
   "outputs": [
    {
     "data": {
      "image/png": "[encoded data removed]",
      "text/plain": [
       "<Figure size 1000x600 with 1 Axes>"
      ]
     },
     "metadata": {},
     "output_type": "display_data"
    },
    {
     "data": {
      "text/plain": [
       "<Figure size 640x480 with 0 Axes>"
      ]
     },
     "metadata": {},
     "output_type": "display_data"
    }
   ],
   "source": [
    "# Filtrar los datos de edad e IOP y tomar una muestra\n",
    "line_data = data[['Age', 'Intraocular Pressure (IOP)']].dropna()\n",
    "sample_data = line_data.sample(80, random_state=1).sort_values(by='Age')\n",
    "\n",
    "# Crear el gráfico de líneas con los datos de muestra\n",
    "plt.figure(figsize=(10, 6))\n",
    "plt.plot(sample_data['Age'], sample_data['Intraocular Pressure (IOP)'], marker='o', linestyle='-', color='blue')\n",
    "plt.title('Intraocular Pressure (IOP) across Age (Sampled Data)')\n",
    "plt.xlabel('Age')\n",
    "plt.ylabel('Intraocular Pressure (IOP)')\n",
    "plt.grid(True)\n",
    "plt.show()\n",
    "# Guardar el gráfico como imagen\n",
    "plt.savefig('../output/lineplot.png')\n"
   ]
  },
  {
   "cell_type": "code",
   "execution_count": 8,
   "metadata": {},
   "outputs": [],
   "source": [
    "# Seleccionar un valor de IOP de ejemplo, por ejemplo el primero del dataset\n",
    "iop_value = data['Intraocular Pressure (IOP)'].dropna().iloc[0]"
   ]
  },
  {
   "cell_type": "code",
   "execution_count": 9,
   "metadata": {},
   "outputs": [
    {
     "data": {
      "application/vnd.plotly.v1+json": {
       "config": {
        "plotlyServerURL": "https://plot.ly"
       },
       "data": [
        {
         "gauge": {
          "axis": {
           "range": [
            10,
            30
           ]
          },
          "steps": [
           {
            "color": "lightgreen",
            "range": [
             10,
             21
            ]
           },
           {
            "color": "yellow",
            "range": [
             21,
             24
            ]
           },
           {
            "color": "red",
            "range": [
             24,
             30
            ]
           }
          ],
          "threshold": {
           "line": {
            "color": "black",
            "width": 4
           },
           "thickness": 0.75,
           "value": 21
          }
         },
         "mode": "gauge+number",
         "title": {
          "text": "Intraocular Pressure (IOP)"
         },
         "type": "indicator",
         "value": 19.46
        }
       ],
       "layout": {
        "template": {
         "data": {
          "bar": [
           {
            "error_x": {
             "color": "#2a3f5f"
            },
            "error_y": {
             "color": "#2a3f5f"
            },
            "marker": {
             "line": {
              "color": "#E5ECF6",
              "width": 0.5
             },
             "pattern": {
              "fillmode": "overlay",
              "size": 10,
              "solidity": 0.2
             }
            },
            "type": "bar"
           }
          ],
          "barpolar": [
           {
            "marker": {
             "line": {
              "color": "#E5ECF6",
              "width": 0.5
             },
             "pattern": {
              "fillmode": "overlay",
              "size": 10,
              "solidity": 0.2
             }
            },
            "type": "barpolar"
           }
          ],
          "carpet": [
           {
            "aaxis": {
             "endlinecolor": "#2a3f5f",
             "gridcolor": "white",
             "linecolor": "white",
             "minorgridcolor": "white",
             "startlinecolor": "#2a3f5f"
            },
            "baxis": {
             "endlinecolor": "#2a3f5f",
             "gridcolor": "white",
             "linecolor": "white",
             "minorgridcolor": "white",
             "startlinecolor": "#2a3f5f"
            },
            "type": "carpet"
           }
          ],
          "choropleth": [
           {
            "colorbar": {
             "outlinewidth": 0,
             "ticks": ""
            },
            "type": "choropleth"
           }
          ],
          "contour": [
           {
            "colorbar": {
             "outlinewidth": 0,
             "ticks": ""
            },
            "colorscale": [
             [
              0,
              "#0d0887"
             ],
             [
              0.1111111111111111,
              "#46039f"
             ],
             [
              0.2222222222222222,
              "#7201a8"
             ],
             [
              0.3333333333333333,
              "#9c179e"
             ],
             [
              0.4444444444444444,
              "#bd3786"
             ],
             [
              0.5555555555555556,
              "#d8576b"
             ],
             [
              0.6666666666666666,
              "#ed7953"
             ],
             [
              0.7777777777777778,
              "#fb9f3a"
             ],
             [
              0.8888888888888888,
              "#fdca26"
             ],
             [
              1,
              "#f0f921"
             ]
            ],
            "type": "contour"
           }
          ],
          "contourcarpet": [
           {
            "colorbar": {
             "outlinewidth": 0,
             "ticks": ""
            },
            "type": "contourcarpet"
           }
          ],
          "heatmap": [
           {
            "colorbar": {
             "outlinewidth": 0,
             "ticks": ""
            },
            "colorscale": [
             [
              0,
              "#0d0887"
             ],
             [
              0.1111111111111111,
              "#46039f"
             ],
             [
              0.2222222222222222,
              "#7201a8"
             ],
             [
              0.3333333333333333,
              "#9c179e"
             ],
             [
              0.4444444444444444,
              "#bd3786"
             ],
             [
              0.5555555555555556,
              "#d8576b"
             ],
             [
              0.6666666666666666,
              "#ed7953"
             ],
             [
              0.7777777777777778,
              "#fb9f3a"
             ],
             [
              0.8888888888888888,
              "#fdca26"
             ],
             [
              1,
              "#f0f921"
             ]
            ],
            "type": "heatmap"
           }
          ],
          "heatmapgl": [
           {
            "colorbar": {
             "outlinewidth": 0,
             "ticks": ""
            },
            "colorscale": [
             [
              0,
              "#0d0887"
             ],
             [
              0.1111111111111111,
              "#46039f"
             ],
             [
              0.2222222222222222,
              "#7201a8"
             ],
             [
              0.3333333333333333,
              "#9c179e"
             ],
             [
              0.4444444444444444,
              "#bd3786"
             ],
             [
              0.5555555555555556,
              "#d8576b"
             ],
             [
              0.6666666666666666,
              "#ed7953"
             ],
             [
              0.7777777777777778,
              "#fb9f3a"
             ],
             [
              0.8888888888888888,
              "#fdca26"
             ],
             [
              1,
              "#f0f921"
             ]
            ],
            "type": "heatmapgl"
           }
          ],
          "histogram": [
           {
            "marker": {
             "pattern": {
              "fillmode": "overlay",
              "size": 10,
              "solidity": 0.2
             }
            },
            "type": "histogram"
           }
          ],
          "histogram2d": [
           {
            "colorbar": {
             "outlinewidth": 0,
             "ticks": ""
            },
            "colorscale": [
             [
              0,
              "#0d0887"
             ],
             [
              0.1111111111111111,
              "#46039f"
             ],
             [
              0.2222222222222222,
              "#7201a8"
             ],
             [
              0.3333333333333333,
              "#9c179e"
             ],
             [
              0.4444444444444444,
              "#bd3786"
             ],
             [
              0.5555555555555556,
              "#d8576b"
             ],
             [
              0.6666666666666666,
              "#ed7953"
             ],
             [
              0.7777777777777778,
              "#fb9f3a"
             ],
             [
              0.8888888888888888,
              "#fdca26"
             ],
             [
              1,
              "#f0f921"
             ]
            ],
            "type": "histogram2d"
           }
          ],
          "histogram2dcontour": [
           {
            "colorbar": {
             "outlinewidth": 0,
             "ticks": ""
            },
            "colorscale": [
             [
              0,
              "#0d0887"
             ],
             [
              0.1111111111111111,
              "#46039f"
             ],
             [
              0.2222222222222222,
              "#7201a8"
             ],
             [
              0.3333333333333333,
              "#9c179e"
             ],
             [
              0.4444444444444444,
              "#bd3786"
             ],
             [
              0.5555555555555556,
              "#d8576b"
             ],
             [
              0.6666666666666666,
              "#ed7953"
             ],
             [
              0.7777777777777778,
              "#fb9f3a"
             ],
             [
              0.8888888888888888,
              "#fdca26"
             ],
             [
              1,
              "#f0f921"
             ]
            ],
            "type": "histogram2dcontour"
           }
          ],
          "mesh3d": [
           {
            "colorbar": {
             "outlinewidth": 0,
             "ticks": ""
            },
            "type": "mesh3d"
           }
          ],
          "parcoords": [
           {
            "line": {
             "colorbar": {
              "outlinewidth": 0,
              "ticks": ""
             }
            },
            "type": "parcoords"
           }
          ],
          "pie": [
           {
            "automargin": true,
            "type": "pie"
           }
          ],
          "scatter": [
           {
            "fillpattern": {
             "fillmode": "overlay",
             "size": 10,
             "solidity": 0.2
            },
            "type": "scatter"
           }
          ],
          "scatter3d": [
           {
            "line": {
             "colorbar": {
              "outlinewidth": 0,
              "ticks": ""
             }
            },
            "marker": {
             "colorbar": {
              "outlinewidth": 0,
              "ticks": ""
             }
            },
            "type": "scatter3d"
           }
          ],
          "scattercarpet": [
           {
            "marker": {
             "colorbar": {
              "outlinewidth": 0,
              "ticks": ""
             }
            },
            "type": "scattercarpet"
           }
          ],
          "scattergeo": [
           {
            "marker": {
             "colorbar": {
              "outlinewidth": 0,
              "ticks": ""
             }
            },
            "type": "scattergeo"
           }
          ],
          "scattergl": [
           {
            "marker": {
             "colorbar": {
              "outlinewidth": 0,
              "ticks": ""
             }
            },
            "type": "scattergl"
           }
          ],
          "scattermapbox": [
           {
            "marker": {
             "colorbar": {
              "outlinewidth": 0,
              "ticks": ""
             }
            },
            "type": "scattermapbox"
           }
          ],
          "scatterpolar": [
           {
            "marker": {
             "colorbar": {
              "outlinewidth": 0,
              "ticks": ""
             }
            },
            "type": "scatterpolar"
           }
          ],
          "scatterpolargl": [
           {
            "marker": {
             "colorbar": {
              "outlinewidth": 0,
              "ticks": ""
             }
            },
            "type": "scatterpolargl"
           }
          ],
          "scatterternary": [
           {
            "marker": {
             "colorbar": {
              "outlinewidth": 0,
              "ticks": ""
             }
            },
            "type": "scatterternary"
           }
          ],
          "surface": [
           {
            "colorbar": {
             "outlinewidth": 0,
             "ticks": ""
            },
            "colorscale": [
             [
              0,
              "#0d0887"
             ],
             [
              0.1111111111111111,
              "#46039f"
             ],
             [
              0.2222222222222222,
              "#7201a8"
             ],
             [
              0.3333333333333333,
              "#9c179e"
             ],
             [
              0.4444444444444444,
              "#bd3786"
             ],
             [
              0.5555555555555556,
              "#d8576b"
             ],
             [
              0.6666666666666666,
              "#ed7953"
             ],
             [
              0.7777777777777778,
              "#fb9f3a"
             ],
             [
              0.8888888888888888,
              "#fdca26"
             ],
             [
              1,
              "#f0f921"
             ]
            ],
            "type": "surface"
           }
          ],
          "table": [
           {
            "cells": {
             "fill": {
              "color": "#EBF0F8"
             },
             "line": {
              "color": "white"
             }
            },
            "header": {
             "fill": {
              "color": "#C8D4E3"
             },
             "line": {
              "color": "white"
             }
            },
            "type": "table"
           }
          ]
         },
         "layout": {
          "annotationdefaults": {
           "arrowcolor": "#2a3f5f",
           "arrowhead": 0,
           "arrowwidth": 1
          },
          "autotypenumbers": "strict",
          "coloraxis": {
           "colorbar": {
            "outlinewidth": 0,
            "ticks": ""
           }
          },
          "colorscale": {
           "diverging": [
            [
             0,
             "#8e0152"
            ],
            [
             0.1,
             "#c51b7d"
            ],
            [
             0.2,
             "#de77ae"
            ],
            [
             0.3,
             "#f1b6da"
            ],
            [
             0.4,
             "#fde0ef"
            ],
            [
             0.5,
             "#f7f7f7"
            ],
            [
             0.6,
             "#e6f5d0"
            ],
            [
             0.7,
             "#b8e186"
            ],
            [
             0.8,
             "#7fbc41"
            ],
            [
             0.9,
             "#4d9221"
            ],
            [
             1,
             "#276419"
            ]
           ],
           "sequential": [
            [
             0,
             "#0d0887"
            ],
            [
             0.1111111111111111,
             "#46039f"
            ],
            [
             0.2222222222222222,
             "#7201a8"
            ],
            [
             0.3333333333333333,
             "#9c179e"
            ],
            [
             0.4444444444444444,
             "#bd3786"
            ],
            [
             0.5555555555555556,
             "#d8576b"
            ],
            [
             0.6666666666666666,
             "#ed7953"
            ],
            [
             0.7777777777777778,
             "#fb9f3a"
            ],
            [
             0.8888888888888888,
             "#fdca26"
            ],
            [
             1,
             "#f0f921"
            ]
           ],
           "sequentialminus": [
            [
             0,
             "#0d0887"
            ],
            [
             0.1111111111111111,
             "#46039f"
            ],
            [
             0.2222222222222222,
             "#7201a8"
            ],
            [
             0.3333333333333333,
             "#9c179e"
            ],
            [
             0.4444444444444444,
             "#bd3786"
            ],
            [
             0.5555555555555556,
             "#d8576b"
            ],
            [
             0.6666666666666666,
             "#ed7953"
            ],
            [
             0.7777777777777778,
             "#fb9f3a"
            ],
            [
             0.8888888888888888,
             "#fdca26"
            ],
            [
             1,
             "#f0f921"
            ]
           ]
          },
          "colorway": [
           "#636efa",
           "#EF553B",
           "#00cc96",
           "#ab63fa",
           "#FFA15A",
           "#19d3f3",
           "#FF6692",
           "#B6E880",
           "#FF97FF",
           "#FECB52"
          ],
          "font": {
           "color": "#2a3f5f"
          },
          "geo": {
           "bgcolor": "white",
           "lakecolor": "white",
           "landcolor": "#E5ECF6",
           "showlakes": true,
           "showland": true,
           "subunitcolor": "white"
          },
          "hoverlabel": {
           "align": "left"
          },
          "hovermode": "closest",
          "mapbox": {
           "style": "light"
          },
          "paper_bgcolor": "white",
          "plot_bgcolor": "#E5ECF6",
          "polar": {
           "angularaxis": {
            "gridcolor": "white",
            "linecolor": "white",
            "ticks": ""
           },
           "bgcolor": "#E5ECF6",
           "radialaxis": {
            "gridcolor": "white",
            "linecolor": "white",
            "ticks": ""
           }
          },
          "scene": {
           "xaxis": {
            "backgroundcolor": "#E5ECF6",
            "gridcolor": "white",
            "gridwidth": 2,
            "linecolor": "white",
            "showbackground": true,
            "ticks": "",
            "zerolinecolor": "white"
           },
           "yaxis": {
            "backgroundcolor": "#E5ECF6",
            "gridcolor": "white",
            "gridwidth": 2,
            "linecolor": "white",
            "showbackground": true,
            "ticks": "",
            "zerolinecolor": "white"
           },
           "zaxis": {
            "backgroundcolor": "#E5ECF6",
            "gridcolor": "white",
            "gridwidth": 2,
            "linecolor": "white",
            "showbackground": true,
            "ticks": "",
            "zerolinecolor": "white"
           }
          },
          "shapedefaults": {
           "line": {
            "color": "#2a3f5f"
           }
          },
          "ternary": {
           "aaxis": {
            "gridcolor": "white",
            "linecolor": "white",
            "ticks": ""
           },
           "baxis": {
            "gridcolor": "white",
            "linecolor": "white",
            "ticks": ""
           },
           "bgcolor": "#E5ECF6",
           "caxis": {
            "gridcolor": "white",
            "linecolor": "white",
            "ticks": ""
           }
          },
          "title": {
           "x": 0.05
          },
          "xaxis": {
           "automargin": true,
           "gridcolor": "white",
           "linecolor": "white",
           "ticks": "",
           "title": {
            "standoff": 15
           },
           "zerolinecolor": "white",
           "zerolinewidth": 2
          },
          "yaxis": {
           "automargin": true,
           "gridcolor": "white",
           "linecolor": "white",
           "ticks": "",
           "title": {
            "standoff": 15
           },
           "zerolinecolor": "white",
           "zerolinewidth": 2
          }
         }
        }
       }
      }
     },
     "metadata": {},
     "output_type": "display_data"
    }
   ],
   "source": [
    "fig = go.Figure(go.Indicator(\n",
    "    mode=\"gauge+number\",\n",
    "    value=iop_value,\n",
    "    title={'text': \"Intraocular Pressure (IOP)\"},\n",
    "    gauge={\n",
    "        'axis': {'range': [10, 30]},\n",
    "        'steps': [\n",
    "            {'range': [10, 21], 'color': \"lightgreen\"},\n",
    "            {'range': [21, 24], 'color': \"yellow\"},\n",
    "            {'range': [24, 30], 'color': \"red\"}],\n",
    "        'threshold': {\n",
    "            'line': {'color': \"black\", 'width': 4},\n",
    "            'thickness': 0.75,\n",
    "            'value': 21}}))\n",
    "\n",
    "fig.show()\n",
    "\n",
    "# guardar plot en fichero\n",
    "#fig.write_image(\"../output/gauge.png\")"
   ]
  },
  {
   "cell_type": "code",
   "execution_count": 10,
   "metadata": {},
   "outputs": [
    {
     "data": {
      "image/png": "[encoded data removed]",
      "text/plain": [
       "<Figure size 1600x800 with 2 Axes>"
      ]
     },
     "metadata": {},
     "output_type": "display_data"
    },
    {
     "data": {
      "text/plain": [
       "<Figure size 640x480 with 0 Axes>"
      ]
     },
     "metadata": {},
     "output_type": "display_data"
    }
   ],
   "source": [
    "# Crear conjuntos de datos binarios para diferentes condiciones\n",
    "conditions = pd.DataFrame({\n",
    "    \"Family History\": data['Family History'].apply(lambda x: 1 if x == \"Yes\" else 0),\n",
    "    \"Cataract Status\": data['Cataract Status'].apply(lambda x: 1 if x == \"Present\" else 0),\n",
    "    \"Angle Closure Status\": data['Angle Closure Status'].apply(lambda x: 1 if x == \"Closed\" else 0)\n",
    "})\n",
    "\n",
    "# Contar cada combinación de condiciones\n",
    "conditions_count = conditions.value_counts().reset_index()\n",
    "conditions_count.columns = [\"Family History\", \"Cataract Status\", \"Angle Closure Status\", \"Count\"]\n",
    "\n",
    "# Configuración de la figura\n",
    "fig, (ax_bar, ax_matrix) = plt.subplots(2, 1, gridspec_kw={'height_ratios': [1, 2]}, figsize=(16, 8), constrained_layout=True)\n",
    "\n",
    "# Crear el gráfico de barras (parte superior) con etiquetas\n",
    "bars = ax_bar.bar(range(len(conditions_count)), conditions_count['Count'], color='black')\n",
    "ax_bar.set_ylabel(\"Número de Pacientes\")\n",
    "ax_bar.set_xticks([])\n",
    "ax_bar.spines['top'].set_visible(False)\n",
    "ax_bar.spines['right'].set_visible(False)\n",
    "ax_bar.spines['left'].set_visible(False)\n",
    "\n",
    "# Añadir etiquetas encima de cada barra\n",
    "for bar in bars:\n",
    "    yval = bar.get_height()\n",
    "    ax_bar.text(bar.get_x() + bar.get_width()/2, yval + 10, int(yval), ha='center', va='bottom', color=\"black\")\n",
    "\n",
    "# Crear la matriz de puntos (parte inferior) para representar los conjuntos\n",
    "for i, row in conditions_count.iterrows():\n",
    "    for j, condition in enumerate([\"Family History\", \"Cataract Status\", \"Angle Closure Status\"]):\n",
    "        color = 'black' if row[condition] == 1 else 'lightgrey'\n",
    "        ax_matrix.scatter(i, j, color=color, s=100, edgecolor='black', zorder=3)\n",
    "    \n",
    "    # Dibujar líneas de conexión para conjuntos presentes\n",
    "    present_conditions = [j for j, condition in enumerate([\"Family History\", \"Cataract Status\", \"Angle Closure Status\"]) if row[condition] == 1]\n",
    "    if len(present_conditions) > 1:\n",
    "        ax_matrix.plot([i] * len(present_conditions), present_conditions, color='black', linewidth=1, zorder=2)\n",
    "\n",
    "# Configuración de la matriz de puntos\n",
    "ax_matrix.set_yticks(range(3))\n",
    "ax_matrix.set_yticklabels([\"Family History\", \"Cataract Status\", \"Angle Closure Status\"])\n",
    "ax_matrix.set_xticks(range(len(conditions_count)))\n",
    "ax_matrix.set_xticklabels([\"\"] * len(conditions_count))\n",
    "ax_matrix.invert_yaxis()\n",
    "ax_matrix.spines['top'].set_visible(False)\n",
    "ax_matrix.spines['right'].set_visible(False)\n",
    "ax_matrix.spines['left'].set_visible(False)\n",
    "ax_matrix.spines['bottom'].set_visible(False)\n",
    "\n",
    "plt.suptitle(\"Intersecciones de condiciones en pacientes con glaucoma (Conteos absolutos)\")\n",
    "plt.show()\n",
    "plt.savefig('../output/upsetdiagram.png')"
   ]
  }
 ],
 "metadata": {
  "kernelspec": {
   "display_name": "aprendizaje_practica",
   "language": "python",
   "name": "python3"
  },
  "language_info": {
   "codemirror_mode": {
    "name": "ipython",
    "version": 3
   },
   "file_extension": ".py",
   "mimetype": "text/x-python",
   "name": "python",
   "nbconvert_exporter": "python",
   "pygments_lexer": "ipython3",
   "version": "3.9.19"
  }
 },
 "nbformat": 4,
 "nbformat_minor": 2
}
